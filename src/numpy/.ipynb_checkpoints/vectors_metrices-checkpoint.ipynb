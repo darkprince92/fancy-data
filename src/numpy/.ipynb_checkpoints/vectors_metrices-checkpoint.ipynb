{
 "cells": [
  {
   "cell_type": "markdown",
   "metadata": {},
   "source": [
    "# Vectors and Metrices"
   ]
  },
  {
   "cell_type": "code",
   "execution_count": 1,
   "metadata": {
    "collapsed": true
   },
   "outputs": [],
   "source": [
    "import numpy as np"
   ]
  },
  {
   "cell_type": "code",
   "execution_count": 5,
   "metadata": {},
   "outputs": [
    {
     "data": {
      "text/plain": [
       "array([[1, 2],\n",
       "       [3, 4]])"
      ]
     },
     "execution_count": 5,
     "metadata": {},
     "output_type": "execute_result"
    }
   ],
   "source": [
    "M = np.array([[1,2], [3,4]])\n",
    "M"
   ]
  },
  {
   "cell_type": "code",
   "execution_count": 6,
   "metadata": {},
   "outputs": [
    {
     "data": {
      "text/plain": [
       "[[1, 2], [3, 4]]"
      ]
     },
     "execution_count": 6,
     "metadata": {},
     "output_type": "execute_result"
    }
   ],
   "source": [
    "L = [[1,2], [3,4]]\n",
    "L"
   ]
  },
  {
   "cell_type": "code",
   "execution_count": 7,
   "metadata": {},
   "outputs": [
    {
     "data": {
      "text/plain": [
       "1"
      ]
     },
     "execution_count": 7,
     "metadata": {},
     "output_type": "execute_result"
    }
   ],
   "source": [
    "L[0][0]"
   ]
  },
  {
   "cell_type": "code",
   "execution_count": 8,
   "metadata": {},
   "outputs": [
    {
     "data": {
      "text/plain": [
       "1"
      ]
     },
     "execution_count": 8,
     "metadata": {},
     "output_type": "execute_result"
    }
   ],
   "source": [
    "M[0][0]"
   ]
  },
  {
   "cell_type": "code",
   "execution_count": 9,
   "metadata": {},
   "outputs": [
    {
     "data": {
      "text/plain": [
       "1"
      ]
     },
     "execution_count": 9,
     "metadata": {},
     "output_type": "execute_result"
    }
   ],
   "source": [
    "M[0,0]"
   ]
  },
  {
   "cell_type": "code",
   "execution_count": 10,
   "metadata": {},
   "outputs": [
    {
     "data": {
      "text/plain": [
       "matrix([[1, 2],\n",
       "        [3, 4]])"
      ]
     },
     "execution_count": 10,
     "metadata": {},
     "output_type": "execute_result"
    }
   ],
   "source": [
    "M2 = np.matrix([[1,2], [3,4]])\n",
    "M2"
   ]
  },
  {
   "cell_type": "code",
   "execution_count": 11,
   "metadata": {},
   "outputs": [
    {
     "data": {
      "text/plain": [
       "array([[1, 3],\n",
       "       [2, 4]])"
      ]
     },
     "execution_count": 11,
     "metadata": {},
     "output_type": "execute_result"
    }
   ],
   "source": [
    "M.T"
   ]
  },
  {
   "cell_type": "code",
   "execution_count": 12,
   "metadata": {},
   "outputs": [
    {
     "data": {
      "text/plain": [
       "array([ 0.,  0.,  0.,  0.,  0.,  0.,  0.,  0.,  0.,  0.])"
      ]
     },
     "execution_count": 12,
     "metadata": {},
     "output_type": "execute_result"
    }
   ],
   "source": [
    "Z = np.zeros(10)\n",
    "Z"
   ]
  },
  {
   "cell_type": "code",
   "execution_count": 13,
   "metadata": {},
   "outputs": [
    {
     "data": {
      "text/plain": [
       "array([[ 0.,  0.,  0.,  0.,  0.,  0.,  0.,  0.,  0.,  0.],\n",
       "       [ 0.,  0.,  0.,  0.,  0.,  0.,  0.,  0.,  0.,  0.],\n",
       "       [ 0.,  0.,  0.,  0.,  0.,  0.,  0.,  0.,  0.,  0.],\n",
       "       [ 0.,  0.,  0.,  0.,  0.,  0.,  0.,  0.,  0.,  0.],\n",
       "       [ 0.,  0.,  0.,  0.,  0.,  0.,  0.,  0.,  0.,  0.],\n",
       "       [ 0.,  0.,  0.,  0.,  0.,  0.,  0.,  0.,  0.,  0.],\n",
       "       [ 0.,  0.,  0.,  0.,  0.,  0.,  0.,  0.,  0.,  0.],\n",
       "       [ 0.,  0.,  0.,  0.,  0.,  0.,  0.,  0.,  0.,  0.],\n",
       "       [ 0.,  0.,  0.,  0.,  0.,  0.,  0.,  0.,  0.,  0.],\n",
       "       [ 0.,  0.,  0.,  0.,  0.,  0.,  0.,  0.,  0.,  0.]])"
      ]
     },
     "execution_count": 13,
     "metadata": {},
     "output_type": "execute_result"
    }
   ],
   "source": [
    "M_Z = np.zeros((10,10))\n",
    "M_Z"
   ]
  },
  {
   "cell_type": "code",
   "execution_count": 14,
   "metadata": {},
   "outputs": [
    {
     "data": {
      "text/plain": [
       "array([[ 1.,  1.,  1.,  1.,  1.,  1.,  1.,  1.,  1.,  1.],\n",
       "       [ 1.,  1.,  1.,  1.,  1.,  1.,  1.,  1.,  1.,  1.],\n",
       "       [ 1.,  1.,  1.,  1.,  1.,  1.,  1.,  1.,  1.,  1.],\n",
       "       [ 1.,  1.,  1.,  1.,  1.,  1.,  1.,  1.,  1.,  1.],\n",
       "       [ 1.,  1.,  1.,  1.,  1.,  1.,  1.,  1.,  1.,  1.],\n",
       "       [ 1.,  1.,  1.,  1.,  1.,  1.,  1.,  1.,  1.,  1.],\n",
       "       [ 1.,  1.,  1.,  1.,  1.,  1.,  1.,  1.,  1.,  1.],\n",
       "       [ 1.,  1.,  1.,  1.,  1.,  1.,  1.,  1.,  1.,  1.],\n",
       "       [ 1.,  1.,  1.,  1.,  1.,  1.,  1.,  1.,  1.,  1.],\n",
       "       [ 1.,  1.,  1.,  1.,  1.,  1.,  1.,  1.,  1.,  1.]])"
      ]
     },
     "execution_count": 14,
     "metadata": {},
     "output_type": "execute_result"
    }
   ],
   "source": [
    "M_I = np.ones((10,10))\n",
    "M_I"
   ]
  },
  {
   "cell_type": "code",
   "execution_count": 15,
   "metadata": {},
   "outputs": [
    {
     "data": {
      "text/plain": [
       "array([[ 0.57247964,  0.16630176,  0.91533308,  0.06242528,  0.46153254,\n",
       "         0.66966028,  0.18746688,  0.15340916,  0.98739807,  0.49314051],\n",
       "       [ 0.96522031,  0.16330746,  0.81703747,  0.54195611,  0.76394813,\n",
       "         0.73370541,  0.95362454,  0.44490903,  0.88727835,  0.00491503],\n",
       "       [ 0.71433288,  0.46720743,  0.38382934,  0.50579918,  0.20687928,\n",
       "         0.2609291 ,  0.14456184,  0.92051726,  0.04214624,  0.29710601],\n",
       "       [ 0.00233503,  0.73761068,  0.38531885,  0.9738388 ,  0.28739401,\n",
       "         0.83358374,  0.6557134 ,  0.78356975,  0.08923278,  0.4008318 ],\n",
       "       [ 0.2270133 ,  0.95809883,  0.43193485,  0.83107687,  0.88557227,\n",
       "         0.60693073,  0.60627751,  0.06763981,  0.15104264,  0.60024874],\n",
       "       [ 0.10646665,  0.72276347,  0.21347942,  0.37033781,  0.49204702,\n",
       "         0.04550423,  0.99786813,  0.42123745,  0.44224544,  0.09490401],\n",
       "       [ 0.76560959,  0.91289832,  0.31627526,  0.87333601,  0.1205961 ,\n",
       "         0.87200039,  0.27540055,  0.93053843,  0.52487954,  0.55235203],\n",
       "       [ 0.33719841,  0.52744627,  0.34886374,  0.99485583,  0.87106504,\n",
       "         0.14624676,  0.39911084,  0.35463859,  0.01558851,  0.48040508],\n",
       "       [ 0.3025596 ,  0.82759279,  0.79179402,  0.59851246,  0.70470836,\n",
       "         0.54161539,  0.98651452,  0.55598444,  0.69260994,  0.20087503],\n",
       "       [ 0.94784662,  0.32435967,  0.84729774,  0.08979146,  0.65643619,\n",
       "         0.59495252,  0.94352646,  0.27336434,  0.38222135,  0.95563025]])"
      ]
     },
     "execution_count": 15,
     "metadata": {},
     "output_type": "execute_result"
    }
   ],
   "source": [
    "M_rand = np.random.random((10,10))\n",
    "M_rand"
   ]
  },
  {
   "cell_type": "code",
   "execution_count": 19,
   "metadata": {},
   "outputs": [
    {
     "data": {
      "text/plain": [
       "array([[ -7.86677328e-01,   1.69290264e+00,   6.92120886e-01,\n",
       "          9.03857618e-01,  -1.92661608e+00,   9.37473065e-01,\n",
       "          7.45359164e-01,   1.08734712e-01,   5.58021883e-01,\n",
       "          1.56140091e+00],\n",
       "       [ -4.45305124e-01,   9.90271421e-01,   8.78626403e-01,\n",
       "          2.11785349e+00,   2.29928261e+00,  -1.83693577e-01,\n",
       "          3.44479499e-01,  -2.07053959e-01,   4.39934263e-01,\n",
       "          9.40373164e-01],\n",
       "       [  1.47556076e+00,   3.28649008e-01,   5.27312257e-01,\n",
       "         -1.06666364e+00,  -1.30795638e+00,   3.05491024e-03,\n",
       "         -5.20394882e-01,  -5.50202822e-01,   1.17721587e+00,\n",
       "          9.58936398e-01],\n",
       "       [  1.59747398e+00,   9.66635169e-01,  -9.42582129e-01,\n",
       "          4.40174908e-01,  -2.04378276e+00,   1.52497895e+00,\n",
       "         -1.08944637e+00,  -1.10176983e+00,   2.71568813e-01,\n",
       "         -2.80274229e-01],\n",
       "       [  5.97785481e-01,   5.69790771e-01,   1.13879024e+00,\n",
       "         -2.85951810e-01,  -9.65144064e-01,  -6.13628792e-02,\n",
       "          3.58252011e-01,   1.17284828e+00,  -2.09336094e+00,\n",
       "         -6.83357007e-02],\n",
       "       [  4.60477459e-01,  -1.33675580e-01,   5.17853354e-01,\n",
       "          1.19496395e-01,  -9.82257304e-01,  -5.79968466e-01,\n",
       "          4.86405157e-01,  -9.96066600e-01,  -3.52681899e-01,\n",
       "          8.12037693e-01],\n",
       "       [  7.27876258e-01,   1.82135549e+00,  -2.17167688e-01,\n",
       "         -8.41651486e-01,   5.58469182e-01,  -6.73624975e-01,\n",
       "         -9.26568657e-01,  -4.54838743e-01,   7.88266067e-01,\n",
       "          3.81314702e-01],\n",
       "       [  2.08531808e-01,  -1.14394510e+00,   9.57633124e-01,\n",
       "         -3.63616312e-02,   2.81769324e-01,  -9.04099482e-01,\n",
       "          3.07488261e-01,   7.01165620e-02,   1.15421542e+00,\n",
       "         -2.59016325e-01],\n",
       "       [  7.02604275e-02,   4.45501987e-01,   9.35718606e-01,\n",
       "          1.75045562e-03,   5.27792950e-01,  -1.34615644e-01,\n",
       "          1.61254388e+00,  -1.41415129e+00,  -6.99998573e-01,\n",
       "          6.91356626e-01],\n",
       "       [  7.80651580e-01,   2.85786292e-01,   1.75454403e-01,\n",
       "         -4.32402687e-01,   1.14411579e+00,  -1.89865694e+00,\n",
       "          6.02675975e-01,   1.80838056e+00,   1.37215307e-01,\n",
       "         -4.37877223e-01]])"
      ]
     },
     "execution_count": 19,
     "metadata": {},
     "output_type": "execute_result"
    }
   ],
   "source": [
    "M_gaussian = np.random.randn(10, 10)\n",
    "M_gaussian"
   ]
  },
  {
   "cell_type": "code",
   "execution_count": 23,
   "metadata": {},
   "outputs": [
    {
     "data": {
      "text/plain": [
       "(0.17746029833030494, 0.85639879064769597)"
      ]
     },
     "execution_count": 23,
     "metadata": {},
     "output_type": "execute_result"
    }
   ],
   "source": [
    "M_gaussian.mean(), M_gaussian.var()"
   ]
  },
  {
   "cell_type": "code",
   "execution_count": 24,
   "metadata": {},
   "outputs": [
    {
     "data": {
      "text/plain": [
       "array([[ 0.1935942 ,  0.26458592,  0.24051549],\n",
       "       [ 0.02820603,  0.73299678,  0.51089824],\n",
       "       [ 0.34196658,  0.31596616,  0.04260131]])"
      ]
     },
     "execution_count": 24,
     "metadata": {},
     "output_type": "execute_result"
    }
   ],
   "source": [
    "A = np.random.random((3,3))\n",
    "A"
   ]
  },
  {
   "cell_type": "code",
   "execution_count": 25,
   "metadata": {},
   "outputs": [
    {
     "data": {
      "text/plain": [
       "array([[ 3.47735388, -1.72861037,  1.09824091],\n",
       "       [-4.63403088,  1.9764012 ,  2.46040145],\n",
       "       [ 6.45656443, -0.78281439, -3.59062378]])"
      ]
     },
     "execution_count": 25,
     "metadata": {},
     "output_type": "execute_result"
    }
   ],
   "source": [
    "A_inv = np.linalg.inv(A)\n",
    "A_inv"
   ]
  },
  {
   "cell_type": "code",
   "execution_count": 26,
   "metadata": {},
   "outputs": [
    {
     "data": {
      "text/plain": [
       "array([[  1.00000000e+00,  -2.34733782e-16,  -1.06791189e-16],\n",
       "       [  1.56768580e-16,   1.00000000e+00,  -2.29365460e-17],\n",
       "       [ -1.07173602e-16,  -1.32140588e-16,   1.00000000e+00]])"
      ]
     },
     "execution_count": 26,
     "metadata": {},
     "output_type": "execute_result"
    }
   ],
   "source": [
    "A_inv.dot(A)"
   ]
  },
  {
   "cell_type": "code",
   "execution_count": 28,
   "metadata": {},
   "outputs": [
    {
     "data": {
      "text/plain": [
       "(-0.03744224299166473, -26.707801672635284)"
      ]
     },
     "execution_count": 28,
     "metadata": {},
     "output_type": "execute_result"
    }
   ],
   "source": [
    "np.linalg.det(A), np.linalg.det(A_inv)"
   ]
  },
  {
   "cell_type": "code",
   "execution_count": 29,
   "metadata": {},
   "outputs": [
    {
     "data": {
      "text/plain": [
       "array([ 0.1935942 ,  0.73299678,  0.04260131])"
      ]
     },
     "execution_count": 29,
     "metadata": {},
     "output_type": "execute_result"
    }
   ],
   "source": [
    "np.diag(A)"
   ]
  },
  {
   "cell_type": "code",
   "execution_count": 30,
   "metadata": {},
   "outputs": [
    {
     "data": {
      "text/plain": [
       "array([[1, 0],\n",
       "       [0, 2]])"
      ]
     },
     "execution_count": 30,
     "metadata": {},
     "output_type": "execute_result"
    }
   ],
   "source": [
    "np.diag([1,2])"
   ]
  },
  {
   "cell_type": "code",
   "execution_count": null,
   "metadata": {
    "collapsed": true
   },
   "outputs": [],
   "source": []
  }
 ],
 "metadata": {
  "kernelspec": {
   "display_name": "Python 3",
   "language": "python",
   "name": "python3"
  },
  "language_info": {
   "codemirror_mode": {
    "name": "ipython",
    "version": 3
   },
   "file_extension": ".py",
   "mimetype": "text/x-python",
   "name": "python",
   "nbconvert_exporter": "python",
   "pygments_lexer": "ipython3",
   "version": "3.6.1"
  }
 },
 "nbformat": 4,
 "nbformat_minor": 2
}
